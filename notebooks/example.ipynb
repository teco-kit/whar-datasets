{
 "cells": [
  {
   "cell_type": "code",
   "execution_count": null,
   "id": "e721ca49",
   "metadata": {},
   "outputs": [],
   "source": [
    "from whar_datasets.adapters.torch_adapter import TorchAdapter\n",
    "from whar_datasets.support.getter import WHARDatasetID, get_whar_cfg"
   ]
  },
  {
   "cell_type": "code",
   "execution_count": null,
   "id": "2e5d8d1d",
   "metadata": {},
   "outputs": [],
   "source": [
    "# given a dataset id, returns dataset config\n",
    "cfg = get_whar_cfg(dataset_id=WHARDatasetID.WISDM)"
   ]
  },
  {
   "cell_type": "code",
   "execution_count": null,
   "id": "0dadee15",
   "metadata": {},
   "outputs": [],
   "source": [
    "# given a dataset config, performs preprocessing, and returns dataset\n",
    "dataset = TorchAdapter(cfg=cfg)"
   ]
  },
  {
   "cell_type": "code",
   "execution_count": null,
   "id": "0367b8fd",
   "metadata": {},
   "outputs": [],
   "source": [
    "# given a fold, performs postprocessing, and return dataloaders\n",
    "loaders = dataset.get_dataloaders(scv_group_index=0, batch_size=128)\n",
    "train_loader, val_loader, test_loader = loaders"
   ]
  }
 ],
 "metadata": {
  "kernelspec": {
   "display_name": "whar-datasets",
   "language": "python",
   "name": "python3"
  },
  "language_info": {
   "codemirror_mode": {
    "name": "ipython",
    "version": 3
   },
   "file_extension": ".py",
   "mimetype": "text/x-python",
   "name": "python",
   "nbconvert_exporter": "python",
   "pygments_lexer": "ipython3",
   "version": "3.11.12"
  }
 },
 "nbformat": 4,
 "nbformat_minor": 5
}
