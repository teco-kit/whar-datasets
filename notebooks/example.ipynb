{
 "cells": [
  {
   "cell_type": "code",
   "execution_count": null,
   "id": "e721ca49",
   "metadata": {},
   "outputs": [],
   "source": [
    "from whar_datasets.adapters.torch_adapter import TorchAdapter\n",
    "from whar_datasets.support.getter import WHARDatasetID, get_dataset_cfg"
   ]
  },
  {
   "cell_type": "code",
   "execution_count": null,
   "id": "2e5d8d1d",
   "metadata": {},
   "outputs": [],
   "source": [
    "# initialize dataset config given a dataset id\n",
    "cfg = get_dataset_cfg(dataset_id=WHARDatasetID.WISDM)\n",
    "\n",
    "# initialize dataset and preprocess\n",
    "dataset = TorchAdapter(cfg=cfg)\n",
    "dataset.preprocess()\n",
    "\n",
    "# postprocess for a given split and get dataloaders\n",
    "dataset.postprocess(split_group_index=0)\n",
    "dataloaders = dataset.get_dataloaders(batch_size=32)"
   ]
  }
 ],
 "metadata": {
  "kernelspec": {
   "display_name": "whar-datasets",
   "language": "python",
   "name": "python3"
  },
  "language_info": {
   "codemirror_mode": {
    "name": "ipython",
    "version": 3
   },
   "file_extension": ".py",
   "mimetype": "text/x-python",
   "name": "python",
   "nbconvert_exporter": "python",
   "pygments_lexer": "ipython3",
   "version": "3.11.12"
  }
 },
 "nbformat": 4,
 "nbformat_minor": 5
}
