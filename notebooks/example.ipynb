{
 "cells": [
  {
   "cell_type": "code",
   "execution_count": null,
   "id": "e721ca49",
   "metadata": {},
   "outputs": [],
   "source": [
    "from whar_datasets.adapters.torch_adapter import TorchAdapter\n",
    "from whar_datasets.support.getter import WHARDatasetID, get_whar_cfg"
   ]
  },
  {
   "cell_type": "code",
   "execution_count": null,
   "id": "2e5d8d1d",
   "metadata": {},
   "outputs": [],
   "source": [
    "# initialize config and dataset given a dataset id\n",
    "cfg = get_whar_cfg(dataset_id=WHARDatasetID.WISDM)\n",
    "dataset = TorchAdapter(cfg=cfg)\n",
    "\n",
    "# preprocess and postprocess for a given fold\n",
    "dataset.preprocess()\n",
    "dataset.postprocess(fold_index=0)\n",
    "\n",
    "# get dataloaders for a given batch size\n",
    "dataloaders = dataset.get_dataloaders(batch_size=32)"
   ]
  }
 ],
 "metadata": {
  "kernelspec": {
   "display_name": "whar-datasets",
   "language": "python",
   "name": "python3"
  },
  "language_info": {
   "codemirror_mode": {
    "name": "ipython",
    "version": 3
   },
   "file_extension": ".py",
   "mimetype": "text/x-python",
   "name": "python",
   "nbconvert_exporter": "python",
   "pygments_lexer": "ipython3",
   "version": "3.11.12"
  }
 },
 "nbformat": 4,
 "nbformat_minor": 5
}
